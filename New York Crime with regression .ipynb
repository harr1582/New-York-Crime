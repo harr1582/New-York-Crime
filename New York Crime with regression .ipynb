{
 "cells": [
  {
   "cell_type": "code",
   "execution_count": 437,
   "metadata": {},
   "outputs": [],
   "source": [
    "import pandas as pd\n",
    "from matplotlib import pyplot as plt\n",
    "import numpy as np\n",
    "from sklearn import linear_model\n",
    "\n",
    "%matplotlib inline\n",
    "pd.options.display.float_format = '{:.3f}'.format\n",
    "\n",
    "# Suppress annoying harmless error.\n",
    "import warnings\n",
    "warnings.filterwarnings(action=\"ignore\", module=\"scipy\", message=\"^internal gelsd\")"
   ]
  },
  {
   "cell_type": "code",
   "execution_count": 438,
   "metadata": {},
   "outputs": [
    {
     "name": "stdout",
     "output_type": "stream",
     "text": [
      "                             Table 8  Unnamed: 1      Unnamed: 2  \\\n",
      "0                           NEW YORK         NaN             NaN   \n",
      "1  Offenses Known to Law Enforcement         NaN             NaN   \n",
      "2                      by City, 2013         NaN             NaN   \n",
      "3                               City  Population  Violent\\ncrime   \n",
      "\n",
      "                               Unnamed: 3                    Unnamed: 4  \\\n",
      "0                                     NaN                           NaN   \n",
      "1                                     NaN                           NaN   \n",
      "2                                     NaN                           NaN   \n",
      "3  Murder and\\nnonnegligent\\nmanslaughter  Rape\\n(revised\\ndefinition)1   \n",
      "\n",
      "                    Unnamed: 5 Unnamed: 6           Unnamed: 7  \\\n",
      "0                          NaN        NaN                  NaN   \n",
      "1                                     NaN                  NaN   \n",
      "2                          NaN        NaN                  NaN   \n",
      "3  Rape\\n(legacy\\ndefinition)2    Robbery  Aggravated\\nassault   \n",
      "\n",
      "        Unnamed: 8 Unnamed: 9      Unnamed: 10            Unnamed: 11  \\\n",
      "0              NaN        NaN              NaN                    NaN   \n",
      "1              NaN        NaN              NaN                    NaN   \n",
      "2              NaN        NaN              NaN                    NaN   \n",
      "3  Property\\ncrime   Burglary  Larceny-\\ntheft  Motor\\nvehicle\\ntheft   \n",
      "\n",
      "  Unnamed: 12  Unnamed: 13  \n",
      "0         NaN          nan  \n",
      "1         NaN          nan  \n",
      "2         NaN          nan  \n",
      "3      Arson3          nan  \n",
      "355\n"
     ]
    }
   ],
   "source": [
    "df = pd.read_csv(r'C:\\Users\\harr1\\Desktop\\Thinkful\\New York Crime.csv')\n",
    "print (df.head(4))\n",
    "print (len(df))"
   ]
  },
  {
   "cell_type": "code",
   "execution_count": 439,
   "metadata": {},
   "outputs": [],
   "source": [
    "# TO DO: cut first three lines. Replace nan with 0? Get rid of Unnamed 13. "
   ]
  },
  {
   "cell_type": "code",
   "execution_count": 440,
   "metadata": {},
   "outputs": [
    {
     "name": "stdout",
     "output_type": "stream",
     "text": [
      "3                       City Population Violent_crime  \\\n",
      "4              Adams Village      1,861             0   \n",
      "5   Addison Town and Village      2,577             3   \n",
      "6              Akron Village      2,846             3   \n",
      "7                     Albany     97,956           791   \n",
      "8             Albion Village      6,388            23   \n",
      "9             Alfred Village      4,089             5   \n",
      "10          Allegany Village      1,781             3   \n",
      "11              Amherst Town    118,296           107   \n",
      "12        Amityville Village      9,519             9   \n",
      "13                 Amsterdam     18,182            30   \n",
      "\n",
      "3  Murder_and_nonnegligent_manslaughter Rape_legacy_definition2 Robbery  \\\n",
      "4                                     0                       0       0   \n",
      "5                                     0                       0       0   \n",
      "6                                     0                       0       0   \n",
      "7                                     8                      30     227   \n",
      "8                                     0                       3       4   \n",
      "9                                     0                       0       3   \n",
      "10                                    0                       0       0   \n",
      "11                                    1                       7      31   \n",
      "12                                    0                       2       4   \n",
      "13                                    0                       0      12   \n",
      "\n",
      "3  Aggravated_assault Property_crime Burglary Larceny-_theft  \\\n",
      "4                   0             12        2             10   \n",
      "5                   3             24        3             20   \n",
      "6                   3             16        1             15   \n",
      "7                 526          4,090      705          3,243   \n",
      "8                  16            223       53            165   \n",
      "9                   2             46       10             36   \n",
      "10                  3             10        0             10   \n",
      "11                 68          2,118      204          1,882   \n",
      "12                  3            210       16            188   \n",
      "13                 18            405       99            291   \n",
      "\n",
      "3  Motor_vehicle_theft Arson3  \n",
      "4                    0      0  \n",
      "5                    1      0  \n",
      "6                    0      0  \n",
      "7                  142    NaN  \n",
      "8                    5    NaN  \n",
      "9                    0    NaN  \n",
      "10                   0      0  \n",
      "11                  32      3  \n",
      "12                   6      1  \n",
      "13                  15      0  \n"
     ]
    }
   ],
   "source": [
    "#Get rid of top three rows and last three\n",
    "new_df = df.drop([0,1,2, 3, 354, 353, 352])\n",
    "#Get\n",
    "#assign row to column names\n",
    "new_df.columns = df.iloc[3]\n",
    "#Clean up column names so you can delete some useless columns that are just causing nan issues\n",
    "new_df.columns = new_df.columns.str.replace(' ', '_').str.replace('(', '').str.replace(')', '').str.replace('\\n', '_')\n",
    "#Get rid of empty rape column\n",
    "#modcrime= new_df.drop(['Rape_revised_definition1'], axis = 'columns') CAN USE THIS TOO\n",
    "modcrime= new_df.drop([new_df.columns[4], new_df.columns[13]], axis = 'columns')\n",
    "print (modcrime.head(10))\n"
   ]
  },
  {
   "cell_type": "code",
   "execution_count": 441,
   "metadata": {},
   "outputs": [
    {
     "name": "stdout",
     "output_type": "stream",
     "text": [
      "348\n"
     ]
    }
   ],
   "source": [
    "[modcrime['City'].unique()]\n",
    "print (len(modcrime))\n"
   ]
  },
  {
   "cell_type": "code",
   "execution_count": 442,
   "metadata": {
    "collapsed": true
   },
   "outputs": [
    {
     "name": "stdout",
     "output_type": "stream",
     "text": [
      "4        1861\n",
      "5        2577\n",
      "6        2846\n",
      "7       97956\n",
      "8        6388\n",
      "9        4089\n",
      "10       1781\n",
      "11     118296\n",
      "12       9519\n",
      "13      18182\n",
      "14       2053\n",
      "15       4523\n",
      "16        658\n",
      "17       2522\n",
      "18      27270\n",
      "19       3333\n",
      "20       7473\n",
      "21       5418\n",
      "22      15374\n",
      "23       5733\n",
      "24      17627\n",
      "25      34243\n",
      "26      46304\n",
      "27       1410\n",
      "28      12001\n",
      "29       1022\n",
      "30       2325\n",
      "31       2054\n",
      "32       2065\n",
      "33       2358\n",
      "        ...  \n",
      "322      3642\n",
      "323       615\n",
      "324     12195\n",
      "325     61686\n",
      "326     27980\n",
      "327      6887\n",
      "328     27940\n",
      "329      3012\n",
      "330      3453\n",
      "331      5828\n",
      "332      8392\n",
      "333      5175\n",
      "334     28179\n",
      "335     10245\n",
      "336      1862\n",
      "337      4337\n",
      "338     43777\n",
      "339      1797\n",
      "340      4574\n",
      "341      1732\n",
      "342     44821\n",
      "343      2604\n",
      "344     57559\n",
      "345      3733\n",
      "346      9141\n",
      "347     10685\n",
      "348       829\n",
      "349      5931\n",
      "350    199134\n",
      "351     36643\n",
      "Name: PopNum, Length: 348, dtype: object\n",
      "4        12\n",
      "5        24\n",
      "6        16\n",
      "7      4090\n",
      "8       223\n",
      "9        46\n",
      "10       10\n",
      "11     2118\n",
      "12      210\n",
      "13      405\n",
      "14       39\n",
      "15       33\n",
      "16        2\n",
      "17        5\n",
      "18      859\n",
      "19       25\n",
      "20       88\n",
      "21       94\n",
      "22      559\n",
      "23      191\n",
      "24      156\n",
      "25      442\n",
      "26     2349\n",
      "27       14\n",
      "28       99\n",
      "29        4\n",
      "30       24\n",
      "31       20\n",
      "32       31\n",
      "33       13\n",
      "       ... \n",
      "322      83\n",
      "323       0\n",
      "324     437\n",
      "325    2528\n",
      "326     571\n",
      "327     142\n",
      "328     767\n",
      "329      68\n",
      "330      78\n",
      "331      58\n",
      "332      59\n",
      "333     194\n",
      "334    1165\n",
      "335     242\n",
      "336      92\n",
      "337      54\n",
      "338     469\n",
      "339      25\n",
      "340     164\n",
      "341      44\n",
      "342     896\n",
      "343      62\n",
      "344    1232\n",
      "345      36\n",
      "346      77\n",
      "347     541\n",
      "348      17\n",
      "349      58\n",
      "350    2368\n",
      "351     334\n",
      "Name: PropertyNum, Length: 348, dtype: object\n"
     ]
    }
   ],
   "source": [
    "#convert str to int\n",
    "\n",
    "modcrime['PopNum'] = modcrime['Population'].str.replace(',', '')\n",
    "modcrime['PropertyNum'] = modcrime['Property_crime'].str.replace(',', '')\n",
    "modcrime['RobberyNum'] = modcrime['Robbery'].str.replace(',', '')\n",
    "print(modcrime['PopNum'])\n",
    "print(modcrime['PropertyNum'])"
   ]
  },
  {
   "cell_type": "code",
   "execution_count": 444,
   "metadata": {
    "collapsed": true
   },
   "outputs": [
    {
     "name": "stdout",
     "output_type": "stream",
     "text": [
      "4        1861\n",
      "5        2577\n",
      "6        2846\n",
      "7       97956\n",
      "8        6388\n",
      "9        4089\n",
      "10       1781\n",
      "11     118296\n",
      "12       9519\n",
      "13      18182\n",
      "14       2053\n",
      "15       4523\n",
      "16        658\n",
      "17       2522\n",
      "18      27270\n",
      "19       3333\n",
      "20       7473\n",
      "21       5418\n",
      "22      15374\n",
      "23       5733\n",
      "24      17627\n",
      "25      34243\n",
      "26      46304\n",
      "27       1410\n",
      "28      12001\n",
      "29       1022\n",
      "30       2325\n",
      "31       2054\n",
      "32       2065\n",
      "33       2358\n",
      "        ...  \n",
      "322      3642\n",
      "323       615\n",
      "324     12195\n",
      "325     61686\n",
      "326     27980\n",
      "327      6887\n",
      "328     27940\n",
      "329      3012\n",
      "330      3453\n",
      "331      5828\n",
      "332      8392\n",
      "333      5175\n",
      "334     28179\n",
      "335     10245\n",
      "336      1862\n",
      "337      4337\n",
      "338     43777\n",
      "339      1797\n",
      "340      4574\n",
      "341      1732\n",
      "342     44821\n",
      "343      2604\n",
      "344     57559\n",
      "345      3733\n",
      "346      9141\n",
      "347     10685\n",
      "348       829\n",
      "349      5931\n",
      "350    199134\n",
      "351     36643\n",
      "Name: PopNum, Length: 348, dtype: int64\n"
     ]
    }
   ],
   "source": [
    "modcrime.RobberyNum = pd.to_numeric(modcrime.RobberyNum, errors = 'coerce')\n",
    "modcrime.PopNum = pd.to_numeric(modcrime.PopNum, errors='coerce')\n",
    "print (modcrime.PopNum)"
   ]
  },
  {
   "cell_type": "code",
   "execution_count": 445,
   "metadata": {
    "collapsed": true
   },
   "outputs": [
    {
     "name": "stdout",
     "output_type": "stream",
     "text": [
      "4      0\n",
      "5      0\n",
      "6      0\n",
      "7      8\n",
      "8      0\n",
      "9      0\n",
      "10     0\n",
      "11     1\n",
      "12     0\n",
      "13     0\n",
      "14     0\n",
      "15     0\n",
      "16     0\n",
      "17     0\n",
      "18     1\n",
      "19     0\n",
      "20     0\n",
      "21     0\n",
      "22     0\n",
      "23     0\n",
      "24     0\n",
      "25     0\n",
      "26     3\n",
      "27     0\n",
      "28     0\n",
      "29     0\n",
      "30     0\n",
      "31     0\n",
      "32     0\n",
      "33     0\n",
      "      ..\n",
      "322    0\n",
      "323    0\n",
      "324    0\n",
      "325    7\n",
      "326    0\n",
      "327    1\n",
      "328    0\n",
      "329    0\n",
      "330    0\n",
      "331    0\n",
      "332    0\n",
      "333    0\n",
      "334    0\n",
      "335    1\n",
      "336    0\n",
      "337    0\n",
      "338    0\n",
      "339    0\n",
      "340    0\n",
      "341    0\n",
      "342    1\n",
      "343    0\n",
      "344    1\n",
      "345    0\n",
      "346    0\n",
      "347    0\n",
      "348    0\n",
      "349    0\n",
      "350    6\n",
      "351    0\n",
      "Name: Murder, Length: 348, dtype: int64\n"
     ]
    }
   ],
   "source": [
    "#convert str to int for murder\n",
    "modcrime['Murder'] = pd.to_numeric(modcrime.Murder_and_nonnegligent_manslaughter, errors='coerce')\n",
    "print (modcrime['Murder'])"
   ]
  },
  {
   "cell_type": "code",
   "execution_count": 372,
   "metadata": {
    "collapsed": true
   },
   "outputs": [
    {
     "data": {
      "image/png": "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\n",
      "text/plain": [
       "<Figure size 432x288 with 1 Axes>"
      ]
     },
     "metadata": {
      "needs_background": "light"
     },
     "output_type": "display_data"
    },
    {
     "name": "stdout",
     "output_type": "stream",
     "text": [
      "335\n"
     ]
    }
   ],
   "source": [
    "plt.hist(modcrime['Murder'], bins = 20)\n",
    "plt.show()\n",
    "print (modcrime['Murder'].max())"
   ]
  },
  {
   "cell_type": "code",
   "execution_count": 412,
   "metadata": {
    "collapsed": true
   },
   "outputs": [
    {
     "data": {
      "text/plain": [
       "3\n",
       "City                                     New York\n",
       "Population                              8,396,126\n",
       "Violent_crime                              52,384\n",
       "Murder_and_nonnegligent_manslaughter          335\n",
       "Rape_legacy_definition2                     1,112\n",
       "Robbery                                    19,170\n",
       "Aggravated_assault                         31,767\n",
       "Property_crime                            141,971\n",
       "Burglary                                   16,606\n",
       "Larceny-_theft                            117,931\n",
       "Motor_vehicle_theft                         7,434\n",
       "Arson3                                        NaN\n",
       "PopNum                                    8396126\n",
       "PropertyNum                                141971\n",
       "Murder                                        335\n",
       "Name: 220, dtype: object"
      ]
     },
     "execution_count": 412,
     "metadata": {},
     "output_type": "execute_result"
    }
   ],
   "source": [
    "#find outlier\n",
    "modcrime.loc[modcrime['Murder'].idxmax()]"
   ]
  },
  {
   "cell_type": "code",
   "execution_count": 413,
   "metadata": {},
   "outputs": [
    {
     "data": {
      "text/plain": [
       "220"
      ]
     },
     "execution_count": 413,
     "metadata": {},
     "output_type": "execute_result"
    }
   ],
   "source": [
    "#find outlier row\n",
    "modcrime['Murder'].idxmax()"
   ]
  },
  {
   "cell_type": "code",
   "execution_count": 414,
   "metadata": {},
   "outputs": [],
   "source": [
    "#drop outlier\n",
    "adjcrime = modcrime.drop([220])"
   ]
  },
  {
   "cell_type": "code",
   "execution_count": 376,
   "metadata": {},
   "outputs": [
    {
     "data": {
      "image/png": "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\n",
      "text/plain": [
       "<Figure size 432x288 with 1 Axes>"
      ]
     },
     "metadata": {
      "needs_background": "light"
     },
     "output_type": "display_data"
    },
    {
     "name": "stdout",
     "output_type": "stream",
     "text": [
      "47\n"
     ]
    }
   ],
   "source": [
    "plt.hist(adjcrime['Murder'], bins = 10)\n",
    "plt.show()\n",
    "print (adjcrime['Murder'].max())"
   ]
  },
  {
   "cell_type": "code",
   "execution_count": 446,
   "metadata": {},
   "outputs": [
    {
     "data": {
      "image/png": "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\n",
      "text/plain": [
       "<Figure size 432x288 with 1 Axes>"
      ]
     },
     "metadata": {
      "needs_background": "light"
     },
     "output_type": "display_data"
    }
   ],
   "source": [
    "plt.hist(modcrime['RobberyNum'], bins = 40)\n",
    "plt.show()\n"
   ]
  },
  {
   "cell_type": "code",
   "execution_count": 447,
   "metadata": {},
   "outputs": [
    {
     "name": "stdout",
     "output_type": "stream",
     "text": [
      "3\n",
      "City                                     New York\n",
      "Population                              8,396,126\n",
      "Violent_crime                              52,384\n",
      "Murder_and_nonnegligent_manslaughter          335\n",
      "Rape_legacy_definition2                     1,112\n",
      "Robbery                                    19,170\n",
      "Aggravated_assault                         31,767\n",
      "Property_crime                            141,971\n",
      "Burglary                                   16,606\n",
      "Larceny-_theft                            117,931\n",
      "Motor_vehicle_theft                         7,434\n",
      "Arson3                                        NaN\n",
      "PopNum                                    8396126\n",
      "PropertyNum                                141971\n",
      "RobberyNum                                  19170\n",
      "Murder                                        335\n",
      "Name: 220, dtype: object\n",
      "220\n"
     ]
    }
   ],
   "source": [
    "print(modcrime.loc[modcrime['RobberyNum'].idxmax()])\n",
    "print (modcrime['RobberyNum'].idxmax())"
   ]
  },
  {
   "cell_type": "code",
   "execution_count": 448,
   "metadata": {},
   "outputs": [
    {
     "data": {
      "image/png": "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\n",
      "text/plain": [
       "<Figure size 432x288 with 1 Axes>"
      ]
     },
     "metadata": {
      "needs_background": "light"
     },
     "output_type": "display_data"
    }
   ],
   "source": [
    "adjcrime = modcrime.drop([220])\n",
    "plt.hist(adjcrime['RobberyNum'], bins = 20)\n",
    "plt.show()"
   ]
  },
  {
   "cell_type": "code",
   "execution_count": 419,
   "metadata": {},
   "outputs": [
    {
     "ename": "TypeError",
     "evalue": "set_xticklabels() missing 1 required positional argument: 'labels'",
     "output_type": "error",
     "traceback": [
      "\u001b[1;31m---------------------------------------------------------------------------\u001b[0m",
      "\u001b[1;31mTypeError\u001b[0m                                 Traceback (most recent call last)",
      "\u001b[1;32m<ipython-input-419-c09e9060b5dd>\u001b[0m in \u001b[0;36m<module>\u001b[1;34m\u001b[0m\n\u001b[0;32m      1\u001b[0m \u001b[1;32mimport\u001b[0m \u001b[0mseaborn\u001b[0m \u001b[1;32mas\u001b[0m \u001b[0msns\u001b[0m\u001b[1;33m\u001b[0m\u001b[1;33m\u001b[0m\u001b[0m\n\u001b[0;32m      2\u001b[0m \u001b[0mg\u001b[0m \u001b[1;33m=\u001b[0m \u001b[0msns\u001b[0m\u001b[1;33m.\u001b[0m\u001b[0mbarplot\u001b[0m\u001b[1;33m(\u001b[0m\u001b[0mmodcrime\u001b[0m\u001b[1;33m[\u001b[0m\u001b[1;34m'City'\u001b[0m\u001b[1;33m]\u001b[0m\u001b[1;33m,\u001b[0m \u001b[0mmodcrime\u001b[0m\u001b[1;33m[\u001b[0m\u001b[1;34m'PopNum'\u001b[0m\u001b[1;33m]\u001b[0m\u001b[1;33m)\u001b[0m\u001b[1;33m\u001b[0m\u001b[1;33m\u001b[0m\u001b[0m\n\u001b[1;32m----> 3\u001b[1;33m \u001b[0mg\u001b[0m\u001b[1;33m.\u001b[0m\u001b[0mset_xticklabels\u001b[0m\u001b[1;33m(\u001b[0m\u001b[0mrotation\u001b[0m\u001b[1;33m=\u001b[0m\u001b[1;36m30\u001b[0m\u001b[1;33m)\u001b[0m\u001b[1;33m\u001b[0m\u001b[1;33m\u001b[0m\u001b[0m\n\u001b[0m",
      "\u001b[1;31mTypeError\u001b[0m: set_xticklabels() missing 1 required positional argument: 'labels'"
     ]
    },
    {
     "data": {
      "image/png": "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\n",
      "text/plain": [
       "<Figure size 432x288 with 1 Axes>"
      ]
     },
     "metadata": {
      "needs_background": "light"
     },
     "output_type": "display_data"
    }
   ],
   "source": [
    "import seaborn as sns\n",
    "g = sns.barplot(modcrime['City'], modcrime['PopNum'])\n",
    "g.set_xticklabels(rotation=30)"
   ]
  },
  {
   "cell_type": "code",
   "execution_count": 420,
   "metadata": {
    "collapsed": true
   },
   "outputs": [
    {
     "name": "stdout",
     "output_type": "stream",
     "text": [
      "4          3463321\n",
      "5          6640929\n",
      "6          8099716\n",
      "7       9595377936\n",
      "8         40806544\n",
      "9         16719921\n",
      "10         3171961\n",
      "11     13993943616\n",
      "12        90611361\n",
      "13       330585124\n",
      "14         4214809\n",
      "15        20457529\n",
      "16          432964\n",
      "17         6360484\n",
      "18       743652900\n",
      "19        11108889\n",
      "20        55845729\n",
      "21        29354724\n",
      "22       236359876\n",
      "23        32867289\n",
      "24       310711129\n",
      "25      1172583049\n",
      "26      2144060416\n",
      "27         1988100\n",
      "28       144024001\n",
      "29         1044484\n",
      "30         5405625\n",
      "31         4218916\n",
      "32         4264225\n",
      "33         5560164\n",
      "          ...     \n",
      "322       13264164\n",
      "323         378225\n",
      "324      148718025\n",
      "325     3805162596\n",
      "326      782880400\n",
      "327       47430769\n",
      "328      780643600\n",
      "329        9072144\n",
      "330       11923209\n",
      "331       33965584\n",
      "332       70425664\n",
      "333       26780625\n",
      "334      794056041\n",
      "335      104960025\n",
      "336        3467044\n",
      "337       18809569\n",
      "338     1916425729\n",
      "339        3229209\n",
      "340       20921476\n",
      "341        2999824\n",
      "342     2008922041\n",
      "343        6780816\n",
      "344     3313038481\n",
      "345       13935289\n",
      "346       83557881\n",
      "347      114169225\n",
      "348         687241\n",
      "349       35176761\n",
      "350    39654349956\n",
      "351     1342709449\n",
      "Name: Population Squared, Length: 348, dtype: int64\n"
     ]
    }
   ],
   "source": [
    "#create features Population^2\n",
    "features = pd.get_dummies(modcrime['PopNum'])\n",
    "features['Population Squared']= (modcrime['PopNum'])**2\n",
    "print(features['Population Squared'])"
   ]
  },
  {
   "cell_type": "code",
   "execution_count": 471,
   "metadata": {},
   "outputs": [],
   "source": [
    "modcrime['Population Squared']= (modcrime['PopNum'])**2"
   ]
  },
  {
   "cell_type": "code",
   "execution_count": 461,
   "metadata": {},
   "outputs": [
    {
     "name": "stdout",
     "output_type": "stream",
     "text": [
      "4     True\n",
      "5     True\n",
      "6     True\n",
      "7    False\n",
      "8     True\n",
      "Name: Murder0, dtype: bool\n",
      "4    False\n",
      "5    False\n",
      "6    False\n",
      "7     True\n",
      "8    False\n",
      "Name: Murder1, dtype: bool\n"
     ]
    }
   ],
   "source": [
    "#create features Population^2\n",
    "features = pd.get_dummies(modcrime['Murder'])\n",
    "features['Murder0'] = (modcrime['Murder'] == 0)\n",
    "features['Murder1'] = (modcrime['Murder'] != 0)\n",
    "print(features['Murder0'].head(5))\n",
    "print(features['Murder1'].head(5))"
   ]
  },
  {
   "cell_type": "code",
   "execution_count": 463,
   "metadata": {},
   "outputs": [
    {
     "name": "stdout",
     "output_type": "stream",
     "text": [
      "4     True\n",
      "5     True\n",
      "6     True\n",
      "7    False\n",
      "8    False\n",
      "Name: Robbery0, dtype: bool\n",
      "4    False\n",
      "5    False\n",
      "6    False\n",
      "7     True\n",
      "8     True\n",
      "Name: Robbery1, dtype: bool\n"
     ]
    }
   ],
   "source": [
    "#create features Robbery\n",
    "features= pd.get_dummies(modcrime['RobberyNum'])\n",
    "features['Robbery0'] = (modcrime['RobberyNum'] == 0)\n",
    "features['Robbery1'] = (modcrime['RobberyNum'] != 0)\n",
    "print(features['Robbery0'].head(5))\n",
    "print(features['Robbery1'].head(5))"
   ]
  },
  {
   "cell_type": "code",
   "execution_count": 468,
   "metadata": {},
   "outputs": [
    {
     "ename": "KeyError",
     "evalue": "('Murder', 'PopNum', 'RobberyNum')",
     "output_type": "error",
     "traceback": [
      "\u001b[1;31m---------------------------------------------------------------------------\u001b[0m",
      "\u001b[1;31mTypeError\u001b[0m                                 Traceback (most recent call last)",
      "\u001b[1;32mpandas\\_libs\\index.pyx\u001b[0m in \u001b[0;36mpandas._libs.index.IndexEngine.get_loc\u001b[1;34m()\u001b[0m\n",
      "\u001b[1;32mpandas\\_libs\\hashtable_class_helper.pxi\u001b[0m in \u001b[0;36mpandas._libs.hashtable.Int64HashTable.get_item\u001b[1;34m()\u001b[0m\n",
      "\u001b[1;31mTypeError\u001b[0m: an integer is required",
      "\nDuring handling of the above exception, another exception occurred:\n",
      "\u001b[1;31mKeyError\u001b[0m                                  Traceback (most recent call last)",
      "\u001b[1;32m<ipython-input-468-30466376f682>\u001b[0m in \u001b[0;36m<module>\u001b[1;34m\u001b[0m\n\u001b[0;32m      1\u001b[0m df_correlations = modcrime.loc[\n\u001b[0;32m      2\u001b[0m     \u001b[1;33m(\u001b[0m\u001b[0mmodcrime\u001b[0m\u001b[1;33m[\u001b[0m\u001b[1;34m'Murder'\u001b[0m\u001b[1;33m]\u001b[0m\u001b[1;33m)\u001b[0m\u001b[1;33m\u001b[0m\u001b[1;33m\u001b[0m\u001b[0m\n\u001b[1;32m----> 3\u001b[1;33m     \u001b[1;33m[\u001b[0m\u001b[1;34m'Murder'\u001b[0m\u001b[1;33m,\u001b[0m \u001b[1;34m'PopNum'\u001b[0m\u001b[1;33m,\u001b[0m \u001b[1;34m'RobberyNum'\u001b[0m\u001b[1;33m]\u001b[0m\u001b[1;33m\u001b[0m\u001b[1;33m\u001b[0m\u001b[0m\n\u001b[0m\u001b[0;32m      4\u001b[0m ]\n\u001b[0;32m      5\u001b[0m \u001b[1;33m\u001b[0m\u001b[0m\n",
      "\u001b[1;32mc:\\users\\harr1\\appdata\\local\\programs\\python\\python37-32\\lib\\site-packages\\pandas\\core\\series.py\u001b[0m in \u001b[0;36m__getitem__\u001b[1;34m(self, key)\u001b[0m\n\u001b[0;32m    765\u001b[0m         \u001b[0mkey\u001b[0m \u001b[1;33m=\u001b[0m \u001b[0mcom\u001b[0m\u001b[1;33m.\u001b[0m\u001b[0m_apply_if_callable\u001b[0m\u001b[1;33m(\u001b[0m\u001b[0mkey\u001b[0m\u001b[1;33m,\u001b[0m \u001b[0mself\u001b[0m\u001b[1;33m)\u001b[0m\u001b[1;33m\u001b[0m\u001b[1;33m\u001b[0m\u001b[0m\n\u001b[0;32m    766\u001b[0m         \u001b[1;32mtry\u001b[0m\u001b[1;33m:\u001b[0m\u001b[1;33m\u001b[0m\u001b[1;33m\u001b[0m\u001b[0m\n\u001b[1;32m--> 767\u001b[1;33m             \u001b[0mresult\u001b[0m \u001b[1;33m=\u001b[0m \u001b[0mself\u001b[0m\u001b[1;33m.\u001b[0m\u001b[0mindex\u001b[0m\u001b[1;33m.\u001b[0m\u001b[0mget_value\u001b[0m\u001b[1;33m(\u001b[0m\u001b[0mself\u001b[0m\u001b[1;33m,\u001b[0m \u001b[0mkey\u001b[0m\u001b[1;33m)\u001b[0m\u001b[1;33m\u001b[0m\u001b[1;33m\u001b[0m\u001b[0m\n\u001b[0m\u001b[0;32m    768\u001b[0m \u001b[1;33m\u001b[0m\u001b[0m\n\u001b[0;32m    769\u001b[0m             \u001b[1;32mif\u001b[0m \u001b[1;32mnot\u001b[0m \u001b[0mis_scalar\u001b[0m\u001b[1;33m(\u001b[0m\u001b[0mresult\u001b[0m\u001b[1;33m)\u001b[0m\u001b[1;33m:\u001b[0m\u001b[1;33m\u001b[0m\u001b[1;33m\u001b[0m\u001b[0m\n",
      "\u001b[1;32mc:\\users\\harr1\\appdata\\local\\programs\\python\\python37-32\\lib\\site-packages\\pandas\\core\\indexes\\base.py\u001b[0m in \u001b[0;36mget_value\u001b[1;34m(self, series, key)\u001b[0m\n\u001b[0;32m   3116\u001b[0m         \u001b[1;32mtry\u001b[0m\u001b[1;33m:\u001b[0m\u001b[1;33m\u001b[0m\u001b[1;33m\u001b[0m\u001b[0m\n\u001b[0;32m   3117\u001b[0m             return self._engine.get_value(s, k,\n\u001b[1;32m-> 3118\u001b[1;33m                                           tz=getattr(series.dtype, 'tz', None))\n\u001b[0m\u001b[0;32m   3119\u001b[0m         \u001b[1;32mexcept\u001b[0m \u001b[0mKeyError\u001b[0m \u001b[1;32mas\u001b[0m \u001b[0me1\u001b[0m\u001b[1;33m:\u001b[0m\u001b[1;33m\u001b[0m\u001b[1;33m\u001b[0m\u001b[0m\n\u001b[0;32m   3120\u001b[0m             \u001b[1;32mif\u001b[0m \u001b[0mlen\u001b[0m\u001b[1;33m(\u001b[0m\u001b[0mself\u001b[0m\u001b[1;33m)\u001b[0m \u001b[1;33m>\u001b[0m \u001b[1;36m0\u001b[0m \u001b[1;32mand\u001b[0m \u001b[0mself\u001b[0m\u001b[1;33m.\u001b[0m\u001b[0minferred_type\u001b[0m \u001b[1;32min\u001b[0m \u001b[1;33m[\u001b[0m\u001b[1;34m'integer'\u001b[0m\u001b[1;33m,\u001b[0m \u001b[1;34m'boolean'\u001b[0m\u001b[1;33m]\u001b[0m\u001b[1;33m:\u001b[0m\u001b[1;33m\u001b[0m\u001b[1;33m\u001b[0m\u001b[0m\n",
      "\u001b[1;32mpandas\\_libs\\index.pyx\u001b[0m in \u001b[0;36mpandas._libs.index.IndexEngine.get_value\u001b[1;34m()\u001b[0m\n",
      "\u001b[1;32mpandas\\_libs\\index.pyx\u001b[0m in \u001b[0;36mpandas._libs.index.IndexEngine.get_value\u001b[1;34m()\u001b[0m\n",
      "\u001b[1;32mpandas\\_libs\\index.pyx\u001b[0m in \u001b[0;36mpandas._libs.index.IndexEngine.get_loc\u001b[1;34m()\u001b[0m\n",
      "\u001b[1;31mKeyError\u001b[0m: ('Murder', 'PopNum', 'RobberyNum')"
     ]
    }
   ],
   "source": [
    "df_correlations = modcrime.loc[\n",
    "    (modcrime['Murder'])\n",
    "    ['Murder', 'PopNum', 'RobberyNum']\n",
    "]\n",
    "    \n",
    "    # Make the correlation matrix.\n",
    "corrmat = df_correlations.corr()\n",
    "#print(corrmat)\n",
    "\n",
    "# Set up the matplotlib figure.\n",
    "f, ax = plt.subplots(figsize=(12, 9))\n",
    "\n",
    "\n",
    "# Draw the heatmap using seaborn.\n",
    "sns.heatmap(corrmat, vmax=.8, square=True)\n",
    "plt.show()\n",
    "# Heatmaps are a great way to get a quick visual read on a big correlation matrix.\n",
    "\n",
    "# Try to match the correlation numbers to the scatterplots above to get a \n",
    "# sense of what each magnitude of correlation can look like."
   ]
  },
  {
   "cell_type": "code",
   "execution_count": 424,
   "metadata": {
    "collapsed": true
   },
   "outputs": [
    {
     "name": "stdout",
     "output_type": "stream",
     "text": [
      "4        12\n",
      "5        24\n",
      "6        16\n",
      "7      4090\n",
      "8       223\n",
      "9        46\n",
      "10       10\n",
      "11     2118\n",
      "12      210\n",
      "13      405\n",
      "14       39\n",
      "15       33\n",
      "16        2\n",
      "17        5\n",
      "18      859\n",
      "19       25\n",
      "20       88\n",
      "21       94\n",
      "22      559\n",
      "23      191\n",
      "24      156\n",
      "25      442\n",
      "26     2349\n",
      "27       14\n",
      "28       99\n",
      "29        4\n",
      "30       24\n",
      "31       20\n",
      "32       31\n",
      "33       13\n",
      "       ... \n",
      "322      83\n",
      "323       0\n",
      "324     437\n",
      "325    2528\n",
      "326     571\n",
      "327     142\n",
      "328     767\n",
      "329      68\n",
      "330      78\n",
      "331      58\n",
      "332      59\n",
      "333     194\n",
      "334    1165\n",
      "335     242\n",
      "336      92\n",
      "337      54\n",
      "338     469\n",
      "339      25\n",
      "340     164\n",
      "341      44\n",
      "342     896\n",
      "343      62\n",
      "344    1232\n",
      "345      36\n",
      "346      77\n",
      "347     541\n",
      "348      17\n",
      "349      58\n",
      "350    2368\n",
      "351     334\n",
      "Name: PropertyNum, Length: 348, dtype: int64\n"
     ]
    }
   ],
   "source": [
    "modcrime['PropertyNum']= pd.to_numeric(modcrime.PropertyNum, errors='coerce')\n",
    "\n",
    "print (modcrime['PropertyNum'])"
   ]
  },
  {
   "cell_type": "code",
   "execution_count": 472,
   "metadata": {},
   "outputs": [
    {
     "name": "stdout",
     "output_type": "stream",
     "text": [
      "\n",
      "Coefficients: \n",
      " [[ 1.59234099e-02 -1.01045767e-09  1.17559526e+02  2.09186042e+00]]\n",
      "\n",
      "Intercept: \n",
      " [24.1435902]\n",
      "\n",
      "R-squared:\n",
      "0.9987417422426106\n"
     ]
    }
   ],
   "source": [
    "# Instantiate and fit our model.\n",
    "regr = linear_model.LinearRegression()\n",
    "Y = modcrime['PropertyNum'].values.reshape(-1, 1)\n",
    "X = modcrime[['PopNum','Population Squared','Murder','RobberyNum']]\n",
    "regr.fit(X, Y)\n",
    "\n",
    "# Inspect the results.\n",
    "print('\\nCoefficients: \\n', regr.coef_)\n",
    "print('\\nIntercept: \\n', regr.intercept_)\n",
    "print('\\nR-squared:')\n",
    "print(regr.score(X, Y))"
   ]
  },
  {
   "cell_type": "code",
   "execution_count": null,
   "metadata": {},
   "outputs": [],
   "source": [
    "# so 𝑃𝑟𝑜𝑝𝑒𝑟𝑡𝑦𝑐𝑟𝑖𝑚𝑒=𝛼+𝑃𝑜𝑝𝑢𝑙𝑎𝑡𝑖𝑜𝑛+𝑃𝑜𝑝𝑢𝑙𝑎𝑡𝑖𝑜𝑛2+𝑀𝑢𝑟𝑑𝑒𝑟+𝑅𝑜𝑏𝑏𝑒𝑟𝑦\n",
    "# Propertycrime = 24.14 + .0159(Population) + -1.01e-09(Population Squared) + .0118(Murder) + 2.09(Robbery) \n",
    "\n",
    "#So is this result showing that frequency of robbery is the most influential of these variables to predict property crime? \n",
    "#Seems legit. Makes sense with the higher rates of robbery compared to murder. I expected population to have more of an influence\n",
    "#I am still very confused about building and using features. I definitely did not do it correctly"
   ]
  }
 ],
 "metadata": {
  "kernelspec": {
   "display_name": "Python 3",
   "language": "python",
   "name": "python3"
  },
  "language_info": {
   "codemirror_mode": {
    "name": "ipython",
    "version": 3
   },
   "file_extension": ".py",
   "mimetype": "text/x-python",
   "name": "python",
   "nbconvert_exporter": "python",
   "pygments_lexer": "ipython3",
   "version": "3.7.1"
  }
 },
 "nbformat": 4,
 "nbformat_minor": 2
}

#R-squared variable too high, shows bias
