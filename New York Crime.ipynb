{
 "cells": [
  {
   "cell_type": "code",
   "execution_count": 9,
   "metadata": {},
   "outputs": [],
   "source": [
    "import pandas as pd\n",
    "from matplotlib import pyplot as plt\n",
    "import numpy as np\n",
    "from sklearn import linear_model\n",
    "\n",
    "%matplotlib inline\n",
    "pd.options.display.float_format = '{:.3f}'.format\n",
    "\n",
    "# Suppress annoying harmless error.\n",
    "import warnings\n",
    "warnings.filterwarnings(action=\"ignore\", module=\"scipy\", message=\"^internal gelsd\")"
   ]
  },
  {
   "cell_type": "code",
   "execution_count": 48,
   "metadata": {
    "collapsed": true
   },
   "outputs": [
    {
     "name": "stdout",
     "output_type": "stream",
     "text": [
      "                             Table 8  Unnamed: 1      Unnamed: 2  \\\n",
      "0                           NEW YORK         NaN             NaN   \n",
      "1  Offenses Known to Law Enforcement         NaN             NaN   \n",
      "2                      by City, 2013         NaN             NaN   \n",
      "3                               City  Population  Violent\\ncrime   \n",
      "\n",
      "                               Unnamed: 3                    Unnamed: 4  \\\n",
      "0                                     NaN                           NaN   \n",
      "1                                     NaN                           NaN   \n",
      "2                                     NaN                           NaN   \n",
      "3  Murder and\\nnonnegligent\\nmanslaughter  Rape\\n(revised\\ndefinition)1   \n",
      "\n",
      "                    Unnamed: 5 Unnamed: 6           Unnamed: 7  \\\n",
      "0                          NaN        NaN                  NaN   \n",
      "1                                     NaN                  NaN   \n",
      "2                          NaN        NaN                  NaN   \n",
      "3  Rape\\n(legacy\\ndefinition)2    Robbery  Aggravated\\nassault   \n",
      "\n",
      "        Unnamed: 8 Unnamed: 9      Unnamed: 10            Unnamed: 11  \\\n",
      "0              NaN        NaN              NaN                    NaN   \n",
      "1              NaN        NaN              NaN                    NaN   \n",
      "2              NaN        NaN              NaN                    NaN   \n",
      "3  Property\\ncrime   Burglary  Larceny-\\ntheft  Motor\\nvehicle\\ntheft   \n",
      "\n",
      "  Unnamed: 12  Unnamed: 13  \n",
      "0         NaN          nan  \n",
      "1         NaN          nan  \n",
      "2         NaN          nan  \n",
      "3      Arson3          nan  \n",
      "355\n"
     ]
    }
   ],
   "source": [
    "df = pd.read_csv(r'C:\\Users\\harr1\\Desktop\\Thinkful\\New York Crime.csv')\n",
    "print (df.head(4))\n",
    "print (len(df))"
   ]
  },
  {
   "cell_type": "code",
   "execution_count": 11,
   "metadata": {},
   "outputs": [],
   "source": [
    "# TO DO: cut first three lines. Replace nan with 0? Get rid of Unnamed 13. "
   ]
  },
  {
   "cell_type": "code",
   "execution_count": 125,
   "metadata": {},
   "outputs": [
    {
     "name": "stdout",
     "output_type": "stream",
     "text": [
      "3                       City Population Violent_crime  \\\n",
      "4              Adams Village      1,861             0   \n",
      "5   Addison Town and Village      2,577             3   \n",
      "6              Akron Village      2,846             3   \n",
      "7                     Albany     97,956           791   \n",
      "8             Albion Village      6,388            23   \n",
      "9             Alfred Village      4,089             5   \n",
      "10          Allegany Village      1,781             3   \n",
      "11              Amherst Town    118,296           107   \n",
      "12        Amityville Village      9,519             9   \n",
      "13                 Amsterdam     18,182            30   \n",
      "\n",
      "3  Murder_and_nonnegligent_manslaughter Rape_legacy_definition2 Robbery  \\\n",
      "4                                     0                       0       0   \n",
      "5                                     0                       0       0   \n",
      "6                                     0                       0       0   \n",
      "7                                     8                      30     227   \n",
      "8                                     0                       3       4   \n",
      "9                                     0                       0       3   \n",
      "10                                    0                       0       0   \n",
      "11                                    1                       7      31   \n",
      "12                                    0                       2       4   \n",
      "13                                    0                       0      12   \n",
      "\n",
      "3  Aggravated_assault Property_crime Burglary Larceny-_theft  \\\n",
      "4                   0             12        2             10   \n",
      "5                   3             24        3             20   \n",
      "6                   3             16        1             15   \n",
      "7                 526          4,090      705          3,243   \n",
      "8                  16            223       53            165   \n",
      "9                   2             46       10             36   \n",
      "10                  3             10        0             10   \n",
      "11                 68          2,118      204          1,882   \n",
      "12                  3            210       16            188   \n",
      "13                 18            405       99            291   \n",
      "\n",
      "3  Motor_vehicle_theft Arson3  \n",
      "4                    0      0  \n",
      "5                    1      0  \n",
      "6                    0      0  \n",
      "7                  142    NaN  \n",
      "8                    5    NaN  \n",
      "9                    0    NaN  \n",
      "10                   0      0  \n",
      "11                  32      3  \n",
      "12                   6      1  \n",
      "13                  15      0  \n"
     ]
    }
   ],
   "source": [
    "#Get rid of top three rows and last three\n",
    "new_df = df.drop([0,1,2, 3, 354, 353, 352])\n",
    "#Get\n",
    "#assign row to column names\n",
    "new_df.columns = df.iloc[3]\n",
    "#Clean up column names so you can delete some useless columns that are just causing nan issues\n",
    "new_df.columns = new_df.columns.str.replace(' ', '_').str.replace('(', '').str.replace(')', '').str.replace('\\n', '_')\n",
    "#Get rid of empty rape column\n",
    "#modcrime= new_df.drop(['Rape_revised_definition1'], axis = 'columns') CAN USE THIS TOO\n",
    "modcrime= new_df.drop([new_df.columns[4], new_df.columns[13]], axis = 'columns')\n",
    "print (modcrime.head(10))\n"
   ]
  },
  {
   "cell_type": "code",
   "execution_count": 139,
   "metadata": {
    "collapsed": true
   },
   "outputs": [
    {
     "name": "stdout",
     "output_type": "stream",
     "text": [
      "4        1861\n",
      "5        2577\n",
      "6        2846\n",
      "7       97956\n",
      "8        6388\n",
      "9        4089\n",
      "10       1781\n",
      "11     118296\n",
      "12       9519\n",
      "13      18182\n",
      "14       2053\n",
      "15       4523\n",
      "16        658\n",
      "17       2522\n",
      "18      27270\n",
      "19       3333\n",
      "20       7473\n",
      "21       5418\n",
      "22      15374\n",
      "23       5733\n",
      "24      17627\n",
      "25      34243\n",
      "26      46304\n",
      "27       1410\n",
      "28      12001\n",
      "29       1022\n",
      "30       2325\n",
      "31       2054\n",
      "32       2065\n",
      "33       2358\n",
      "        ...  \n",
      "322      3642\n",
      "323       615\n",
      "324     12195\n",
      "325     61686\n",
      "326     27980\n",
      "327      6887\n",
      "328     27940\n",
      "329      3012\n",
      "330      3453\n",
      "331      5828\n",
      "332      8392\n",
      "333      5175\n",
      "334     28179\n",
      "335     10245\n",
      "336      1862\n",
      "337      4337\n",
      "338     43777\n",
      "339      1797\n",
      "340      4574\n",
      "341      1732\n",
      "342     44821\n",
      "343      2604\n",
      "344     57559\n",
      "345      3733\n",
      "346      9141\n",
      "347     10685\n",
      "348       829\n",
      "349      5931\n",
      "350    199134\n",
      "351     36643\n",
      "Name: PopNum, Length: 348, dtype: object\n"
     ]
    }
   ],
   "source": [
    "#convert str to int\n",
    "\n",
    "modcrime['PopNum'] = modcrime['Population'].str.replace(',', '')\n",
    "print(modcrime['PopNum'])"
   ]
  },
  {
   "cell_type": "code",
   "execution_count": 141,
   "metadata": {
    "collapsed": true
   },
   "outputs": [
    {
     "name": "stdout",
     "output_type": "stream",
     "text": [
      "4        1861\n",
      "5        2577\n",
      "6        2846\n",
      "7       97956\n",
      "8        6388\n",
      "9        4089\n",
      "10       1781\n",
      "11     118296\n",
      "12       9519\n",
      "13      18182\n",
      "14       2053\n",
      "15       4523\n",
      "16        658\n",
      "17       2522\n",
      "18      27270\n",
      "19       3333\n",
      "20       7473\n",
      "21       5418\n",
      "22      15374\n",
      "23       5733\n",
      "24      17627\n",
      "25      34243\n",
      "26      46304\n",
      "27       1410\n",
      "28      12001\n",
      "29       1022\n",
      "30       2325\n",
      "31       2054\n",
      "32       2065\n",
      "33       2358\n",
      "        ...  \n",
      "322      3642\n",
      "323       615\n",
      "324     12195\n",
      "325     61686\n",
      "326     27980\n",
      "327      6887\n",
      "328     27940\n",
      "329      3012\n",
      "330      3453\n",
      "331      5828\n",
      "332      8392\n",
      "333      5175\n",
      "334     28179\n",
      "335     10245\n",
      "336      1862\n",
      "337      4337\n",
      "338     43777\n",
      "339      1797\n",
      "340      4574\n",
      "341      1732\n",
      "342     44821\n",
      "343      2604\n",
      "344     57559\n",
      "345      3733\n",
      "346      9141\n",
      "347     10685\n",
      "348       829\n",
      "349      5931\n",
      "350    199134\n",
      "351     36643\n",
      "Name: PopNum, Length: 348, dtype: int64\n"
     ]
    }
   ],
   "source": [
    "modcrime.PopNum = pd.to_numeric(modcrime.PopNum, errors='coerce')\n",
    "print (modcrime.PopNum)"
   ]
  },
  {
   "cell_type": "code",
   "execution_count": 151,
   "metadata": {
    "collapsed": true
   },
   "outputs": [
    {
     "name": "stdout",
     "output_type": "stream",
     "text": [
      "4      0\n",
      "5      0\n",
      "6      0\n",
      "7      8\n",
      "8      0\n",
      "9      0\n",
      "10     0\n",
      "11     1\n",
      "12     0\n",
      "13     0\n",
      "14     0\n",
      "15     0\n",
      "16     0\n",
      "17     0\n",
      "18     1\n",
      "19     0\n",
      "20     0\n",
      "21     0\n",
      "22     0\n",
      "23     0\n",
      "24     0\n",
      "25     0\n",
      "26     3\n",
      "27     0\n",
      "28     0\n",
      "29     0\n",
      "30     0\n",
      "31     0\n",
      "32     0\n",
      "33     0\n",
      "      ..\n",
      "322    0\n",
      "323    0\n",
      "324    0\n",
      "325    7\n",
      "326    0\n",
      "327    1\n",
      "328    0\n",
      "329    0\n",
      "330    0\n",
      "331    0\n",
      "332    0\n",
      "333    0\n",
      "334    0\n",
      "335    1\n",
      "336    0\n",
      "337    0\n",
      "338    0\n",
      "339    0\n",
      "340    0\n",
      "341    0\n",
      "342    1\n",
      "343    0\n",
      "344    1\n",
      "345    0\n",
      "346    0\n",
      "347    0\n",
      "348    0\n",
      "349    0\n",
      "350    6\n",
      "351    0\n",
      "Name: Murder, Length: 348, dtype: int64\n"
     ]
    }
   ],
   "source": [
    "#convert str to int for murder\n",
    "modcrime['Murder'] = pd.to_numeric(modcrime.Murder_and_nonnegligent_manslaughter, errors='coerce')\n",
    "print (modcrime['Murder'])"
   ]
  },
  {
   "cell_type": "code",
   "execution_count": 159,
   "metadata": {},
   "outputs": [
    {
     "data": {
      "image/png": "[encoded data removed]",
      "text/plain": [
       "<Figure size 432x288 with 1 Axes>"
      ]
     },
     "metadata": {
      "needs_background": "light"
     },
     "output_type": "display_data"
    }
   ],
   "source": [
    "plt.hist(modcrime['Murder'], bins = 20)\n",
    "plt.show()"
   ]
  },
  {
   "cell_type": "code",
   "execution_count": 153,
   "metadata": {},
   "outputs": [
    {
     "name": "stdout",
     "output_type": "stream",
     "text": [
      "4   0.000\n",
      "5   0.000\n",
      "6   0.000\n",
      "Name: Robbery, dtype: float64\n"
     ]
    }
   ],
   "source": [
    "#convert str to int for robbery\n",
    "modcrime['Robbery'] = pd.to_numeric(modcrime.Robbery, errors='coerce')\n",
    "print (modcrime['Robbery'].head(3))"
   ]
  },
  {
   "cell_type": "code",
   "execution_count": 162,
   "metadata": {},
   "outputs": [
    {
     "data": {
      "image/png": "[encoded data removed]",
      "text/plain": [
       "<Figure size 432x288 with 1 Axes>"
      ]
     },
     "metadata": {
      "needs_background": "light"
     },
     "output_type": "display_data"
    }
   ],
   "source": [
    "plt.hist(modcrime['Robbery'], bins = 40)\n",
    "plt.show()"
   ]
  },
  {
   "cell_type": "code",
   "execution_count": 142,
   "metadata": {},
   "outputs": [
    {
     "ename": "TypeError",
     "evalue": "set_xticklabels() missing 1 required positional argument: 'labels'",
     "output_type": "error",
     "traceback": [
      "\u001b[1;31m---------------------------------------------------------------------------\u001b[0m",
      "\u001b[1;31mTypeError\u001b[0m                                 Traceback (most recent call last)",
      "\u001b[1;32m<ipython-input-142-c09e9060b5dd>\u001b[0m in \u001b[0;36m<module>\u001b[1;34m\u001b[0m\n\u001b[0;32m      1\u001b[0m \u001b[1;32mimport\u001b[0m \u001b[0mseaborn\u001b[0m \u001b[1;32mas\u001b[0m \u001b[0msns\u001b[0m\u001b[1;33m\u001b[0m\u001b[1;33m\u001b[0m\u001b[0m\n\u001b[0;32m      2\u001b[0m \u001b[0mg\u001b[0m \u001b[1;33m=\u001b[0m \u001b[0msns\u001b[0m\u001b[1;33m.\u001b[0m\u001b[0mbarplot\u001b[0m\u001b[1;33m(\u001b[0m\u001b[0mmodcrime\u001b[0m\u001b[1;33m[\u001b[0m\u001b[1;34m'City'\u001b[0m\u001b[1;33m]\u001b[0m\u001b[1;33m,\u001b[0m \u001b[0mmodcrime\u001b[0m\u001b[1;33m[\u001b[0m\u001b[1;34m'PopNum'\u001b[0m\u001b[1;33m]\u001b[0m\u001b[1;33m)\u001b[0m\u001b[1;33m\u001b[0m\u001b[1;33m\u001b[0m\u001b[0m\n\u001b[1;32m----> 3\u001b[1;33m \u001b[0mg\u001b[0m\u001b[1;33m.\u001b[0m\u001b[0mset_xticklabels\u001b[0m\u001b[1;33m(\u001b[0m\u001b[0mrotation\u001b[0m\u001b[1;33m=\u001b[0m\u001b[1;36m30\u001b[0m\u001b[1;33m)\u001b[0m\u001b[1;33m\u001b[0m\u001b[1;33m\u001b[0m\u001b[0m\n\u001b[0m",
      "\u001b[1;31mTypeError\u001b[0m: set_xticklabels() missing 1 required positional argument: 'labels'"
     ]
    },
    {
     "data": {
      "image/png": "[encoded data removed]",
      "text/plain": [
       "<Figure size 432x288 with 1 Axes>"
      ]
     },
     "metadata": {
      "needs_background": "light"
     },
     "output_type": "display_data"
    }
   ],
   "source": [
    "import seaborn as sns\n",
    "g = sns.barplot(modcrime['City'], modcrime['PopNum'])\n",
    "g.set_xticklabels(rotation=30)"
   ]
  },
  {
   "cell_type": "code",
   "execution_count": 143,
   "metadata": {},
   "outputs": [
    {
     "name": "stdout",
     "output_type": "stream",
     "text": [
      "4          3463321\n",
      "5          6640929\n",
      "6          8099716\n",
      "7       9595377936\n",
      "8         40806544\n",
      "9         16719921\n",
      "10         3171961\n",
      "11     13993943616\n",
      "12        90611361\n",
      "13       330585124\n",
      "14         4214809\n",
      "15        20457529\n",
      "16          432964\n",
      "17         6360484\n",
      "18       743652900\n",
      "19        11108889\n",
      "20        55845729\n",
      "21        29354724\n",
      "22       236359876\n",
      "23        32867289\n",
      "24       310711129\n",
      "25      1172583049\n",
      "26      2144060416\n",
      "27         1988100\n",
      "28       144024001\n",
      "29         1044484\n",
      "30         5405625\n",
      "31         4218916\n",
      "32         4264225\n",
      "33         5560164\n",
      "          ...     \n",
      "322       13264164\n",
      "323         378225\n",
      "324      148718025\n",
      "325     3805162596\n",
      "326      782880400\n",
      "327       47430769\n",
      "328      780643600\n",
      "329        9072144\n",
      "330       11923209\n",
      "331       33965584\n",
      "332       70425664\n",
      "333       26780625\n",
      "334      794056041\n",
      "335      104960025\n",
      "336        3467044\n",
      "337       18809569\n",
      "338     1916425729\n",
      "339        3229209\n",
      "340       20921476\n",
      "341        2999824\n",
      "342     2008922041\n",
      "343        6780816\n",
      "344     3313038481\n",
      "345       13935289\n",
      "346       83557881\n",
      "347      114169225\n",
      "348         687241\n",
      "349       35176761\n",
      "350    39654349956\n",
      "351     1342709449\n",
      "Name: Population Squared, Length: 348, dtype: int64\n"
     ]
    }
   ],
   "source": [
    "#create features Population^2\n",
    "features = pd.get_dummies(modcrime['PopNum'])\n",
    "features['Population Squared']= (modcrime['PopNum'])**2\n",
    "print(features['Population Squared'])"
   ]
  },
  {
   "cell_type": "code",
   "execution_count": 152,
   "metadata": {},
   "outputs": [
    {
     "name": "stdout",
     "output_type": "stream",
     "text": [
      "4     True\n",
      "5     True\n",
      "6     True\n",
      "7    False\n",
      "8     True\n",
      "Name: Murder0, dtype: bool\n",
      "4    False\n",
      "5    False\n",
      "6    False\n",
      "7     True\n",
      "8    False\n",
      "Name: Murder1, dtype: bool\n"
     ]
    }
   ],
   "source": [
    "#create features Population^2\n",
    "features = pd.get_dummies(modcrime['Murder'])\n",
    "features['Murder0'] = (modcrime['Murder'] == 0)\n",
    "features['Murder1'] = (modcrime['Murder'] != 0)\n",
    "print(features['Murder0'].head(5))\n",
    "print(features['Murder1'].head(5))"
   ]
  },
  {
   "cell_type": "code",
   "execution_count": 154,
   "metadata": {},
   "outputs": [
    {
     "name": "stdout",
     "output_type": "stream",
     "text": [
      "4     True\n",
      "5     True\n",
      "6     True\n",
      "7    False\n",
      "8    False\n",
      "Name: Robbery0, dtype: bool\n",
      "4    False\n",
      "5    False\n",
      "6    False\n",
      "7     True\n",
      "8     True\n",
      "Name: Robbery1, dtype: bool\n"
     ]
    }
   ],
   "source": [
    "#create features Robbery\n",
    "features= pd.get_dummies(modcrime['Robbery'])\n",
    "features['Robbery0'] = (modcrime['Robbery'] == 0)\n",
    "features['Robbery1'] = (modcrime['Robbery'] != 0)\n",
    "print(features['Robbery0'].head(5))\n",
    "print(features['Robbery1'].head(5))"
   ]
  },
  {
   "cell_type": "code",
   "execution_count": null,
   "metadata": {},
   "outputs": [],
   "source": []
  }
 ],
 "metadata": {
  "kernelspec": {
   "display_name": "Python 3",
   "language": "python",
   "name": "python3"
  },
  "language_info": {
   "codemirror_mode": {
    "name": "ipython",
    "version": 3
   },
   "file_extension": ".py",
   "mimetype": "text/x-python",
   "name": "python",
   "nbconvert_exporter": "python",
   "pygments_lexer": "ipython3",
   "version": "3.7.1"
  }
 },
 "nbformat": 4,
 "nbformat_minor": 2
}
